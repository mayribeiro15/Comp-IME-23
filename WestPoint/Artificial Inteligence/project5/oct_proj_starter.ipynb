{
  "cells": [
    {
      "cell_type": "code",
      "execution_count": 203,
      "id": "dbd1ff4e",
      "metadata": {
        "id": "dbd1ff4e"
      },
      "outputs": [],
      "source": [
        "# YOUR IMPORTS HERE\n",
        "import numpy as np\n",
        "import torch\n",
        "import matplotlib.pyplot as plt\n",
        "from torch import nn\n",
        "from torch import optim\n",
        "from torch.optim import lr_scheduler\n",
        "import cv2 as cv"
      ]
    },
    {
      "cell_type": "code",
      "execution_count": 204,
      "id": "7becf9cf",
      "metadata": {
        "id": "7becf9cf"
      },
      "outputs": [],
      "source": [
        "train_data = np.load('train_images.npy')\n",
        "train_labels = np.load('train_labels.npy')\n",
        "val_data = np.load('val_images.npy')\n",
        "val_labels = np.load('val_labels.npy')\n",
        "test_data = np.load('test_images.npy')\n",
        "test_labels = np.load('test_labels.npy')"
      ]
    },
    {
      "cell_type": "code",
      "execution_count": 205,
      "id": "7OT41O5r5ksn",
      "metadata": {
        "colab": {
          "base_uri": "https://localhost:8080/",
          "height": 282
        },
        "id": "7OT41O5r5ksn",
        "outputId": "7cfe2d3c-8611-43b2-9479-cb4b46033991"
      },
      "outputs": [
        {
          "name": "stdout",
          "output_type": "stream",
          "text": [
            "(28, 28)\n"
          ]
        },
        {
          "data": {
            "image/png": "[encoded data removed]",
            "text/plain": [
              "<Figure size 432x288 with 1 Axes>"
            ]
          },
          "metadata": {
            "needs_background": "light"
          },
          "output_type": "display_data"
        }
      ],
      "source": [
        "plt.imshow(train_data[1])\n",
        "print(train_data[1].shape)"
      ]
    },
    {
      "cell_type": "code",
      "execution_count": 206,
      "id": "8a514974",
      "metadata": {
        "id": "8a514974"
      },
      "outputs": [],
      "source": [
        "# custom dataset object for dataloaders\n",
        "from torch.utils.data import Dataset, DataLoader\n",
        "\n",
        "class My_Dataset(Dataset):\n",
        "    \n",
        "    def __init__(self, X_data, y_data):\n",
        "        self.X_data = X_data\n",
        "        self.y_data = y_data\n",
        "        \n",
        "    def __getitem__(self, index):\n",
        "        return self.X_data[index], int(self.y_data[index][0])\n",
        "        \n",
        "    def __len__ (self):\n",
        "        return len(self.X_data)\n",
        "\n",
        "train_data_for_loader = My_Dataset(torch.FloatTensor(train_data), train_labels)\n",
        "val_data_for_loader = My_Dataset(torch.FloatTensor(val_data), val_labels)\n",
        "test_data_for_loader = My_Dataset(torch.FloatTensor(test_data), test_labels)\n",
        "\n",
        "train_loader = DataLoader(train_data_for_loader, batch_size = 100, shuffle = True)\n",
        "val_loader = DataLoader(val_data_for_loader, batch_size = len(val_data_for_loader), shuffle = False)\n",
        "test_loader = DataLoader(test_data_for_loader, batch_size = len(test_data_for_loader), shuffle = False)"
      ]
    },
    {
      "cell_type": "code",
      "execution_count": 207,
      "id": "01c233df",
      "metadata": {
        "colab": {
          "base_uri": "https://localhost:8080/",
          "height": 317
        },
        "id": "01c233df",
        "outputId": "52e305a6-bb3a-459a-f979-e053ef0ab03c"
      },
      "outputs": [
        {
          "name": "stdout",
          "output_type": "stream",
          "text": [
            "torch.Size([100, 28, 28])\n",
            "torch.Size([100])\n"
          ]
        },
        {
          "data": {
            "text/plain": [
              "<matplotlib.image.AxesImage at 0x7f64776b5ca0>"
            ]
          },
          "execution_count": 207,
          "metadata": {},
          "output_type": "execute_result"
        },
        {
          "data": {
            "image/png": "[encoded data removed]",
            "text/plain": [
              "<Figure size 432x288 with 1 Axes>"
            ]
          },
          "metadata": {
            "needs_background": "light"
          },
          "output_type": "display_data"
        }
      ],
      "source": [
        "images, labels = next(iter(train_loader))\n",
        "print(images.shape)\n",
        "print(labels.shape)\n",
        "plt.imshow(images[5])"
      ]
    },
    {
      "cell_type": "code",
      "execution_count": 209,
      "id": "0f8bca0d",
      "metadata": {
        "colab": {
          "base_uri": "https://localhost:8080/"
        },
        "id": "0f8bca0d",
        "outputId": "8fc4700f-9741-4ef5-dd34-a1d43decea36"
      },
      "outputs": [
        {
          "name": "stdout",
          "output_type": "stream",
          "text": [
            "torch.Size([100, 784])\n"
          ]
        }
      ],
      "source": [
        "# define and instantiate model\n",
        "class Model(nn.Module):\n",
        "    # YOUR CODE HERE\n",
        "    pass\n",
        "\n",
        "#model = Model()\n",
        "\n",
        "input_size = 784\n",
        "hidden_sizes = [256, 128, 64, 16]\n",
        "output_size = 4\n",
        "\n",
        "images = images.view(images.shape[0], -1)\n",
        "print(images.shape)\n",
        "\n",
        "model = nn.Sequential(nn.Linear(input_size, hidden_sizes[0]),\n",
        "        nn.ReLU(),\n",
        "        nn.Linear(hidden_sizes[0], hidden_sizes[1]),\n",
        "        nn.ReLU(),\n",
        "        nn.Linear(hidden_sizes[1], hidden_sizes[2]),\n",
        "        nn.ReLU(),\n",
        "        nn.Linear(hidden_sizes[2], hidden_sizes[3]),\n",
        "        nn.ReLU(),\n",
        "        nn.Linear(hidden_sizes[3], output_size),\n",
        "        nn.LogSoftmax(dim=1))\n",
        "\n",
        "\n",
        "# model = nn.Sequential(nn.Conv2d(100, 64, kernel_size=3),\n",
        "#         nn.ReLU(),\n",
        "#         nn.MaxPool2d(2,2),\n",
        "\n",
        "#         nn.Conv2d(64, 16, kernel_size=3),\n",
        "#         nn.ReLU(),\n",
        "#         nn.MaxPool2d(2,2),\n",
        "\n",
        "#         nn.Flatten(1,-1),\n",
        "       \n",
        "#         nn.Linear(25, 4),\n",
        "#         nn.LogSoftmax(dim=1))"
      ]
    },
    {
      "cell_type": "code",
      "execution_count": 210,
      "id": "b03af65b",
      "metadata": {
        "colab": {
          "base_uri": "https://localhost:8080/"
        },
        "id": "b03af65b",
        "outputId": "1f56fae3-cd89-4046-c040-f519b82058d4"
      },
      "outputs": [
        {
          "name": "stdout",
          "output_type": "stream",
          "text": [
            "torch.Size([100, 4])\n",
            "torch.Size([100])\n"
          ]
        }
      ],
      "source": [
        "# define and instantiate loss function & optimizer\n",
        "criterion = nn.NLLLoss()\n",
        "\n",
        "logits = model(images)\n",
        "print(logits.shape)\n",
        "print(labels.shape)\n",
        "loss = criterion(logits, labels)\n",
        "\n",
        "optimizer = optim.SGD(model.parameters(), lr=0.01)\n",
        "scheduler = lr_scheduler.ExponentialLR(optimizer, gamma=0.9)\n",
        "\n",
        "\n",
        "# YOUR CODE HERE"
      ]
    },
    {
      "cell_type": "code",
      "execution_count": 211,
      "id": "1eb016fd",
      "metadata": {
        "colab": {
          "base_uri": "https://localhost:8080/"
        },
        "id": "1eb016fd",
        "outputId": "a2af8d80-f9a1-42dd-a959-ab28352f1ab4",
        "scrolled": true
      },
      "outputs": [
        {
          "name": "stdout",
          "output_type": "stream",
          "text": [
            "Training loss #0: 1.0363289055457483 / LR: [0.01]\n",
            "Training loss #1: 0.8560005708229848 / LR: [0.009000000000000001]\n",
            "Training loss #2: 0.7530992111487267 / LR: [0.008100000000000001]\n",
            "Training loss #3: 0.684851002295812 / LR: [0.007290000000000001]\n",
            "Training loss #4: 0.646649181720538 / LR: [0.006561000000000002]\n",
            "Training loss #5: 0.6057477907034067 / LR: [0.005904900000000002]\n",
            "Training loss #6: 0.5790550928849441 / LR: [0.005314410000000002]\n",
            "Training loss #7: 0.5558605479888427 / LR: [0.004782969000000002]\n",
            "Training loss #8: 0.534150862907752 / LR: [0.004304672100000002]\n",
            "Training loss #9: 0.5149888528310336 / LR: [0.003874204890000002]\n",
            "Training loss #10: 0.49825547117453356 / LR: [0.003486784401000002]\n",
            "Training loss #11: 0.48346290111541745 / LR: [0.003138105960900002]\n",
            "Training loss #12: 0.46928556699019214 / LR: [0.0028242953648100018]\n",
            "Training loss #13: 0.45841112914757853 / LR: [0.0025418658283290017]\n",
            "Training loss #14: 0.44440720918851023 / LR: [0.0022876792454961017]\n",
            "Training loss #15: 0.43347958732873965 / LR: [0.0020589113209464917]\n",
            "Training loss #16: 0.42454563811803475 / LR: [0.0018530201888518425]\n",
            "Training loss #17: 0.41446725208025714 / LR: [0.0016677181699666583]\n",
            "Training loss #18: 0.40660650429053186 / LR: [0.0015009463529699924]\n",
            "Training loss #19: 0.39864540587633085 / LR: [0.0013508517176729932]\n",
            "Training loss #20: 0.391039941463715 / LR: [0.001215766545905694]\n",
            "Training loss #21: 0.3840735351275175 / LR: [0.0010941898913151245]\n",
            "Training loss #22: 0.37733089457719754 / LR: [0.0009847709021836122]\n",
            "Training loss #23: 0.37192242055367203 / LR: [0.0008862938119652509]\n",
            "Training loss #24: 0.36635465452304256 / LR: [0.0007976644307687258]\n",
            "Training loss #25: 0.3621154955870066 / LR: [0.0007178979876918532]\n",
            "Training loss #26: 0.3571792493722378 / LR: [0.0006461081889226679]\n",
            "Training loss #27: 0.35317005913991195 / LR: [0.0005814973700304011]\n",
            "Training loss #28: 0.34941284129252803 / LR: [0.0005233476330273611]\n",
            "Training loss #29: 0.3461048473914464 / LR: [0.000471012869724625]\n",
            "Training loss #30: 0.3429170072078705 / LR: [0.0004239115827521625]\n",
            "Training loss #31: 0.3402635296032979 / LR: [0.00038152042447694626]\n",
            "Training loss #32: 0.33770709107319513 / LR: [0.00034336838202925164]\n",
            "Training loss #33: 0.33502571237392914 / LR: [0.0003090315438263265]\n",
            "Training loss #34: 0.3333014691181672 / LR: [0.00027812838944369386]\n",
            "Training loss #35: 0.33128039566370154 / LR: [0.0002503155504993245]\n",
            "Training loss #36: 0.3294172603961749 / LR: [0.00022528399544939206]\n",
            "Training loss #37: 0.32804183667286846 / LR: [0.00020275559590445286]\n",
            "Training loss #38: 0.326529024824118 / LR: [0.00018248003631400757]\n",
            "Training loss #39: 0.32509177084152513 / LR: [0.00016423203268260683]\n"
          ]
        }
      ],
      "source": [
        "# train model\n",
        "epochs = 40\n",
        "for e in range(epochs):\n",
        "    running_loss = 0\n",
        "    for images, labels in train_loader:\n",
        "        images = images.view(images.shape[0], -1)\n",
        "    \n",
        "        optimizer.zero_grad()        \n",
        "        output = model(images)\n",
        "        loss = criterion(output, labels)\n",
        "        loss.backward()\n",
        "        optimizer.step()\n",
        "        \n",
        "        running_loss += loss.item()\n",
        "    else:\n",
        "        print(f\"Training loss #{e}: {running_loss/len(train_loader)} / LR: {scheduler.get_last_lr()}\")\n",
        "    scheduler.step()\n",
        "# YOUR CODE HERE"
      ]
    },
    {
      "cell_type": "code",
      "execution_count": 212,
      "id": "ea1d83cb",
      "metadata": {
        "colab": {
          "base_uri": "https://localhost:8080/"
        },
        "id": "ea1d83cb",
        "outputId": "90331092-84eb-44a5-974a-c13e92cf903c"
      },
      "outputs": [
        {
          "name": "stdout",
          "output_type": "stream",
          "text": [
            "Test Accuracy: 0.8454579025110783\n"
          ]
        }
      ],
      "source": [
        "# check accuracy on entire test set VAL DATA\n",
        "# count correct predictions\n",
        "with torch.no_grad():\n",
        "    correct = 0\n",
        "    for X_test, y_test in val_loader:\n",
        "        y_pred = model(X_test.view(len(X_test), -1))\n",
        "        predicted = torch.max(y_pred, 1)[1]\n",
        "        correct += (predicted == y_test).sum()\n",
        "\n",
        "# calculate accuracy, print\n",
        "print(f'Test Accuracy: {correct.item() / len(val_data_for_loader)}')"
      ]
    },
    {
      "cell_type": "code",
      "execution_count": 213,
      "id": "12a4e8c2",
      "metadata": {
        "colab": {
          "base_uri": "https://localhost:8080/"
        },
        "id": "12a4e8c2",
        "outputId": "691e79f2-7c55-44a1-bbff-eefb89d9969a"
      },
      "outputs": [
        {
          "name": "stdout",
          "output_type": "stream",
          "text": [
            "Test Accuracy: 0.616\n"
          ]
        }
      ],
      "source": [
        "# check accuracy on entire test set TEST DATA\n",
        "\n",
        "# count correct predictions\n",
        "with torch.no_grad():\n",
        "    correct = 0\n",
        "    for X_test, y_test in test_loader:\n",
        "        y_pred = model(X_test.view(len(X_test), -1))\n",
        "        predicted = torch.max(y_pred, 1)[1]\n",
        "        correct += (predicted == y_test).sum()\n",
        "\n",
        "# calculate accuracy, print\n",
        "print(f'Test Accuracy: {correct.item() / len(test_data_for_loader)}')"
      ]
    },
    {
      "cell_type": "code",
      "execution_count": 196,
      "id": "2ae28f92",
      "metadata": {
        "id": "2ae28f92"
      },
      "outputs": [],
      "source": [
        "# FUNCTION TO SAVE PREDICTIONS TO CSV\n",
        "# call with trained model and DataLoader for test data\n",
        "# will save predictions to .csv in current directory\n",
        "def save_predictions(M, T):\n",
        "    with open('submission.csv', 'w') as out_file:\n",
        "        s = 'Id,Category\\n'\n",
        "        with torch.no_grad():\n",
        "            for X_test, y_test in T:\n",
        "                y_pred = model(X_test.view(len(X_test), -1))\n",
        "                predicted = torch.max(y_pred, 1)[1]\n",
        "                for i in range(len(predicted)):\n",
        "                    s += f'{i},{str(int(predicted[i]))}\\n'\n",
        "        s = s[:-1]\n",
        "        out_file.write(s)\n",
        "        \n",
        "save_predictions(model, test_loader)\n"
      ]
    },
    {
      "cell_type": "code",
      "execution_count": null,
      "id": "f1994907",
      "metadata": {},
      "outputs": [],
      "source": [
        "torch.save(model.state_dict(), 'project5_mayara.pt')"
      ]
    }
  ],
  "metadata": {
    "accelerator": "GPU",
    "colab": {
      "provenance": []
    },
    "gpuClass": "standard",
    "kernelspec": {
      "display_name": "Python 3.9.12 ('base')",
      "language": "python",
      "name": "python3"
    },
    "language_info": {
      "codemirror_mode": {
        "name": "ipython",
        "version": 3
      },
      "file_extension": ".py",
      "mimetype": "text/x-python",
      "name": "python",
      "nbconvert_exporter": "python",
      "pygments_lexer": "ipython3",
      "version": "3.9.12"
    },
    "vscode": {
      "interpreter": {
        "hash": "0faa326bf5f522263a7bd9aa9fb4d1c06edd39254fb6234a0140b061dcb709ad"
      }
    }
  },
  "nbformat": 4,
  "nbformat_minor": 5
}
